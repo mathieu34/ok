{
 "cells": [
  {
   "cell_type": "markdown",
   "metadata": {},
   "source": [
    "## Real Time Object Detection using YOLOv4 with OpenCV and Python\n",
    "### https://morioh.com/p/74bdafb54c91 (Running YOLO on CPU)"
   ]
  },
  {
   "cell_type": "code",
   "execution_count": 1,
   "metadata": {},
   "outputs": [],
   "source": [
    "import cv2\n",
    "import numpy as np\n",
    "import time"
   ]
  },
  {
   "cell_type": "markdown",
   "metadata": {},
   "source": [
    "## Load the Network"
   ]
  },
  {
   "cell_type": "code",
   "execution_count": 2,
   "metadata": {},
   "outputs": [],
   "source": [
    "#load YOLO \n",
    "#detects an origin framework of a trained model and calls an appropriate function such as readNetFromCaffe, readNetFromTensorflow, readNetFromTorch, or readNetFromDarknet\n",
    "#net = cv2.dnn.readNet(\"yolov3.weights\",\"yolov3.cfg\") # dnn = Deep Neural Network module\n",
    "net = cv2.dnn.readNet(\"custom-yolov4-tiny-detector_best.weights\",\"custom-yolov4-tiny-detector.cfg\")\n",
    "\n",
    "classes = []\n",
    "with open (\"coco_math.names\", \"r\") as f:\n",
    "    classes =[line.strip() for line in f.readlines()]                      "
   ]
  },
  {
   "cell_type": "code",
   "execution_count": 3,
   "metadata": {},
   "outputs": [
    {
     "name": "stdout",
     "output_type": "stream",
     "text": [
      "['math']\n"
     ]
    }
   ],
   "source": [
    "print(classes)"
   ]
  },
  {
   "cell_type": "code",
   "execution_count": 4,
   "metadata": {},
   "outputs": [
    {
     "name": "stdout",
     "output_type": "stream",
     "text": [
      "[[66]\n",
      " [78]]\n",
      "['yolo_30', 'yolo_37']\n"
     ]
    }
   ],
   "source": [
    "layer_names = net.getLayerNames() #Get the name of all layers of the network.\n",
    "#print(len(layer_names), layer_names)\n",
    "outputlayers = [layer_names[i[0] - 1] for i in net.getUnconnectedOutLayers()]\n",
    "print(net.getUnconnectedOutLayers()) #Get the index of the output layers.\n",
    "print(outputlayers) #Get the name of the output layers."
   ]
  },
  {
   "cell_type": "code",
   "execution_count": 5,
   "metadata": {},
   "outputs": [],
   "source": [
    "colors = np.random.uniform(0,255,size=(len(classes),3))"
   ]
  },
  {
   "cell_type": "code",
   "execution_count": 30,
   "metadata": {},
   "outputs": [],
   "source": [
    "import time\n",
    "\n",
    "# load the the camera, get the starting time and the frame ID\n",
    "cap=cv2.VideoCapture(0) #0 for 1st webcam\n",
    "font = cv2.FONT_HERSHEY_PLAIN #typographie\n",
    "starting_time = time.time()\n",
    "frame_id = 0\n",
    "\n",
    "frame_width = int(cap.get(3))\n",
    "frame_height = int(cap.get(4))\n",
    "\n",
    "# Define the codec and create VideoWriter object.The output is stored in 'outpy.avi' file.\n",
    "# Define the fps to be equal to 10. Also frame size is passed.\n",
    "output = cv2.VideoWriter('myface.avi',cv2.VideoWriter_fourcc('M','J','P','G'), 10, (frame_width,frame_height))\n",
    "\n",
    "# Extract the frame from the camera\n",
    "while True: \n",
    "    ret,frame= cap.read() # ret : value true or false for next frame, frame : get next frame \n",
    "    frame_id+=1\n",
    "    \n",
    "    height,width,channels = frame.shape\n",
    "\n",
    "# Perform the detection\n",
    "    blob = cv2.dnn.blobFromImage(frame,0.00392,(320,320),(0,0,0),True,crop=False) #reduce 416 to 320    \n",
    "\n",
    "        \n",
    "    net.setInput(blob) #feeding input with frame\n",
    "    outs = net.forward(outputlayers) #frame pass the output layers\n",
    "    #print(outs[1])\n",
    "\n",
    "\n",
    "    #Showing info on screen/ get confidence score of algorithm in detecting an object in blob\n",
    "    class_ids=[]\n",
    "    confidences=[]\n",
    "    boxes=[]\n",
    "    for out in outs:       # take the output for the two classes math and lol\n",
    "        for detection in out:\n",
    "            scores = detection[5:]\n",
    "            class_id = np.argmax(scores)\n",
    "            confidence = scores[class_id]\n",
    "            if confidence > 0.3:\n",
    "                #onject detected\n",
    "                center_x= int(detection[0]*width)\n",
    "                center_y= int(detection[1]*height)\n",
    "                w = int(detection[2]*width)\n",
    "                h = int(detection[3]*height)\n",
    "\n",
    "                #cv2.circle(img,(center_x,center_y),10,(0,255,0),2)\n",
    "                #rectangle co-ordinaters\n",
    "                x=int(center_x - w/2)\n",
    "                y=int(center_y - h/2)\n",
    "                #cv2.rectangle(img,(x,y),(x+w,y+h),(0,255,0),2)\n",
    "\n",
    "                boxes.append([x,y,w,h]) #put all rectangle areas\n",
    "                confidences.append(float(confidence)) #how confidence was that object detected and show that percentage\n",
    "                class_ids.append(class_id) #name of the object tha was detected\n",
    "\n",
    "    #NMSBoxes(bboxes, scores, score_threshold, nms_threshold) : select boxes indexes on treshold\n",
    "    indexes = cv2.dnn.NMSBoxes(boxes,confidences,0.4,0.6) \n",
    "\n",
    "    for i in range(len(boxes)):  \n",
    "        if i in indexes:\n",
    "            x,y,w,h = boxes[i]\n",
    "            label = str(classes[class_ids[i]])\n",
    "            confidence= confidences[i]\n",
    "            color = colors[class_ids[i]]\n",
    "            cv2.rectangle(frame,(x,y),(x+w,y+h),color,2)\n",
    "            cv2.putText(frame,label+\" \"+str(round(confidence,2)),(x,y+30),font,1,(255,255,255),2)\n",
    "            \n",
    "# Calculate the FPS by deviding the elapsed time by the number of the frames and we show it \n",
    "    #elapsed_time = time.time() - starting_time\n",
    "    #fps=frame_id/elapsed_time\n",
    "    #cv2.putText(frame,\"FPS:\"+str(round(fps,2)),(10,50),font,2,(0,0,0),1)\n",
    "    \n",
    "    cv2.imshow(\"Image\",frame)\n",
    "    key = cv2.waitKey(1) #wait 1ms the loop will start again and we will process the next frame\n",
    "    \n",
    "    #Write the frame into the file 'outpy.avi'\n",
    "    output.write(frame)\n",
    "    \n",
    "    \n",
    "    if key == 27: #esc key stops the process\n",
    "        break;\n",
    "    \n",
    "cap.release()    \n",
    "output.release() \n",
    "cv2.destroyAllWindows()"
   ]
  }
 ],
 "metadata": {
  "kernelspec": {
   "display_name": "Python 3",
   "language": "python",
   "name": "python3"
  },
  "language_info": {
   "codemirror_mode": {
    "name": "ipython",
    "version": 3
   },
   "file_extension": ".py",
   "mimetype": "text/x-python",
   "name": "python",
   "nbconvert_exporter": "python",
   "pygments_lexer": "ipython3",
   "version": "3.8.5"
  }
 },
 "nbformat": 4,
 "nbformat_minor": 4
}
